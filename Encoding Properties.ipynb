{
 "cells": [
  {
   "cell_type": "markdown",
   "metadata": {},
   "source": [
    "# Song Corpora Analysis"
   ]
  },
  {
   "cell_type": "code",
   "execution_count": 1,
   "metadata": {
    "pycharm": {
     "is_executing": true
    }
   },
   "outputs": [],
   "source": [
    "import csv\n",
    "import copy\n",
    "import numpy as np\n",
    "from collections import Counter\n",
    "import json\n",
    "\n",
    "from matplotlib import pyplot as plt\n",
    "\n",
    "#from __future__ import division\n",
    "\n",
    "# Allowed Harmony Chords and Melody Notes\n",
    "# This is for a Major scale, so the Harmony Chords H\n",
    "#   1,3,5,7 are assumed major chords relative to the tonic - the minors will get an added 'm', and\n",
    "#   2,4,6  are assumed to be minor chords - the major will get an added 'M'\n",
    "#   An added '7' denotes a chord with the seventh tone.\n",
    "# For notes and chords out of key I use '#' and 'f'\n",
    "\n",
    "H = ['1', '17', '2', '2M', '27', '2M7', '3', '37', '3m', '4', '4M', \n",
    "     '5', '57', '6', '6M', '67', '6M7', '7', '7f']\n",
    "M = ['1', '2', '3', '4', '4#', '5', '6', '7', '7f']"
   ]
  },
  {
   "cell_type": "markdown",
   "metadata": {},
   "source": [
    "## Validate Data\n",
    "* Check that each measure has 2 tokens\n",
    "* Check that each token is a valid H-M pair in terms of the universe defined above\n",
    "\n",
    "Note *even*M7 are okay as they are reduced to *even*7 later."
   ]
  },
  {
   "cell_type": "code",
   "execution_count": 2,
   "metadata": {
    "pycharm": {
     "is_executing": true
    }
   },
   "outputs": [
    {
     "name": "stdout",
     "output_type": "stream",
     "text": [
      "1349 measures analysed\n"
     ]
    }
   ],
   "source": [
    "tokens = [h+'-'+m for h in H for m in M]\n",
    "\n",
    "#with open('data/H-M Training - Traditional-Orig.csv', 'r') as f:\n",
    "with open('data/H-M Training - Traditional Irish.csv', 'r') as f:\n",
    "    reader = csv.reader(f)\n",
    "    #trainingTuples =  map(tuple, reader)\n",
    "\n",
    "    allTuples = []\n",
    "    ones = []\n",
    "    twos = []\n",
    "    for i, dataString in enumerate(reader):\n",
    "        theseTuples = [token.strip() for token in dataString[2:]]\n",
    "        \n",
    "        allTuples.extend(theseTuples)\n",
    "        \n",
    "        for t in theseTuples:\n",
    "            try:\n",
    "                ones.append(t.split(' ')[0][1:])\n",
    "                twos.append(t.split(' ')[1][:-1])\n",
    "            except IndexError:\n",
    "                print('BAD TOKEN in - ' + dataString[0])\n",
    "                print('Index: ' + str(i))\n",
    "                print(t + '\\n')\n",
    "            \n",
    "            try:\n",
    "                assert(ones[-1] in tokens)\n",
    "            except AssertionError:\n",
    "                print('H1 TOKEN Out of Bounds in - ' + dataString[0])\n",
    "                print('Index: ' + str(i))\n",
    "                print(ones[-1] + '\\n')\n",
    "                \n",
    "            try:\n",
    "                assert(twos[-1] in tokens)\n",
    "            except AssertionError:\n",
    "                print('H2 TOKEN Out of Bounds in - ' + dataString[0])\n",
    "                print('Index: ' + str(i))\n",
    "                print(twos[-1] + '\\n')\n",
    "\n",
    "print(len(allTuples), 'measures analysed')"
   ]
  },
  {
   "cell_type": "markdown",
   "metadata": {},
   "source": [
    "## Load songs"
   ]
  },
  {
   "cell_type": "code",
   "execution_count": 3,
   "metadata": {
    "pycharm": {
     "is_executing": true
    }
   },
   "outputs": [
    {
     "name": "stdout",
     "output_type": "stream",
     "text": [
      "Loaded 89 songs\n",
      "5378 tuples\n"
     ]
    }
   ],
   "source": [
    "def loadSongs(csvFileName):\n",
    "    with open(csvFileName, 'r') as f:\n",
    "        reader = csv.reader(f)\n",
    "        #trainingTuples =  map(tuple, reader)\n",
    "        \n",
    "        songs = []\n",
    "        for dataString in reader:\n",
    "            song = []\n",
    "            for measureData in dataString[2:]:\n",
    "                # Clean up string data\n",
    "                md = measureData.strip().strip('(').strip(')')\n",
    "                # Reduce <even>M7 to <even>7\n",
    "                m1 = md.replace('2M7', '27')\n",
    "                m2 = m1.replace('4M7', '47')\n",
    "                m = m2.replace('6M7', '67')\n",
    "                \n",
    "                md = m\n",
    "                m1 = md.replace('4-2', '4M-2')\n",
    "                m2 = m1.replace('4-4', '4M-4')\n",
    "                m = m2.replace('4-6', '4M-6')\n",
    "                \n",
    "                # Store as tuple to handle as sequence - Markov Chain\n",
    "                measureTuple = (m.split()[0], m.split()[1])\n",
    "                song.append(measureTuple)\n",
    "                \n",
    "            songs.append(song)\n",
    "            \n",
    "    return songs\n",
    "\n",
    "# Load everything but Irish\n",
    "csvFileName = 'data/H-M Training - Traditional.csv'\n",
    "songsA = loadSongs(csvFileName)\n",
    "\n",
    "# Load Irish\n",
    "csvFileName = 'data/H-M Training - Traditional Irish.csv'\n",
    "songsI = loadSongs(csvFileName)\n",
    "\n",
    "# Combine\n",
    "songs = songsA + songsI\n",
    "\n",
    "tuples_h1 = [measure[0] for song in songs for measure in song]\n",
    "tuples_h2 = [measure[1] for song in songs for measure in song]\n",
    "\n",
    "tuples = tuples_h1 + tuples_h2\n",
    "\n",
    "print(\"Loaded\", len(songs), 'songs')\n",
    "print(len(tuples), 'tuples')"
   ]
  },
  {
   "cell_type": "markdown",
   "metadata": {},
   "source": [
    "# Data Properties\n",
    "A fundamental unit, a 'token', is a harmony-melody pair.  At this point we don't care if the token on the first bead of the measure (later we call this Half 1) or in the middle of the measure (Half 2).  Here we calculate the following:\n",
    "* Distribution of tokens (plot)\n",
    "* Average number of counts per token\n",
    "* Standard Deviation of counts per token for all tokens\n",
    "* Number of tokens with no counts"
   ]
  },
  {
   "cell_type": "code",
   "execution_count": 4,
   "metadata": {
    "pycharm": {
     "is_executing": true
    }
   },
   "outputs": [
    {
     "data": {
      "image/png": "[encoded data removed]",
      "text/plain": [
       "<Figure size 432x288 with 1 Axes>"
      ]
     },
     "metadata": {
      "needs_background": "light"
     },
     "output_type": "display_data"
    },
    {
     "name": "stdout",
     "output_type": "stream",
     "text": [
      "Number of Tokens: 171\n",
      "Average Number of Counts per Token: 76.83\n",
      "Standard Deviation of Counts per Token: 190.42\n",
      "Number of Tokens with no counts: 0\n",
      "Number of Tokens with 1 count: 6\n"
     ]
    }
   ],
   "source": [
    "### \n",
    "c = Counter(tuples)\n",
    "\n",
    "plt.plot([t[0] for t in c.most_common(12)], [t[1] for t in c.most_common(12)])\n",
    "plt.show()\n",
    "\n",
    "print('Number of Tokens: ' + '{}'.format(len(tokens)))\n",
    "mu = np.mean([v for v in c.values()])\n",
    "print('Average Number of Counts per Token: ' + '{:.2f}'.format(mu))\n",
    "sigma = np.std([v for v in c.values()])\n",
    "print('Standard Deviation of Counts per Token: ' + '{:.2f}'.format(sigma))\n",
    "sparsity = len([v for v in c.values() if v==0])\n",
    "print('Number of Tokens with no counts: ' + '{}'.format(sparsity))\n",
    "print('Number of Tokens with 1 count: ' + '{}'.format(len([v for v in c.values() if v==1])))"
   ]
  },
  {
   "cell_type": "markdown",
   "metadata": {},
   "source": [
    "# Markov Chains\n",
    "Model the data as a Markov process - each part of a measure idependently, one model for the first token of a measure is dependent upon the prior token, the second model for the token found at the half way point of each measure. "
   ]
  },
  {
   "cell_type": "code",
   "execution_count": 5,
   "metadata": {
    "pycharm": {
     "is_executing": true
    }
   },
   "outputs": [],
   "source": [
    "# Train Markov Models via TransitionMatrix Class\n",
    "class TransitionMatrix(object):\n",
    "    def __init__(self):\n",
    "        self.tokens = [h+'-'+m for h in H for m in M]\n",
    "        self.sequences = [(t1, t2) for t1 in self.tokens for t2 in self.tokens]\n",
    "        self.p = np.full((len(self.tokens), len(self.sequences)), 0.0)\n",
    "        self.p_inv = np.full((len(self.sequences), len(self.tokens)), 0.0)\n",
    "        self.count = np.zeros((len(self.tokens), len(self.sequences)))\n",
    "        self.idxByToken = {t:i for i,t in enumerate(self.tokens)}\n",
    "        self.idxBySequence = {str(t):i for i,t in enumerate(self.sequences)}\n",
    "    \n",
    "    def from_json(self, kwargs):\n",
    "        for key in kwargs:\n",
    "            if key in ['count', 'p', 'p_inv']:\n",
    "                setattr(self, key, np.asarray(kwargs[key]))\n",
    "            else:\n",
    "                setattr(self, key, kwargs[key])\n",
    "    \n",
    "    # Use one type of update for any TM instance.\n",
    "    # update* writes to count and thus is reflected in p and p_inv\n",
    "    def update_order1(self, song):\n",
    "        for measure0, measure1 in zip(song, song[1:]):\n",
    "            # Add second half measure0 given first half measure0\n",
    "            token_final = self.idxByToken[measure0[1]]\n",
    "            token_init = self.idxByToken[measure0[0]]\n",
    "            self.count[token_final][token_init] += 1\n",
    "            \n",
    "            # Add first half measure1 given secong half measure0\n",
    "            token_final = self.idxByToken[measure1[0]]\n",
    "            token_init = self.idxByToken[measure0[1]]\n",
    "            self.count[token_final][token_init] += 1\n",
    "        self._calc_p()\n",
    "        \n",
    "    def update_h1(self, song):\n",
    "        for measure0, measure1 in zip(song, song[1:]):\n",
    "            tokenIdx = self.idxByToken[measure1[0]]\n",
    "            sequenceIdx = self.idxBySequence[str(measure0)]\n",
    "            self.count[tokenIdx][sequenceIdx] += 1    \n",
    "        self._calc_p()\n",
    "    \n",
    "    def update_h2(self, song):\n",
    "        for measure0, measure1 in zip(song, song[1:]):\n",
    "            tokenIdx = self.idxByToken[measure1[1]]\n",
    "            sequenceIdx = self.idxBySequence[str((measure0[1], measure1[0]))]\n",
    "            self.count[tokenIdx][sequenceIdx] += 1    \n",
    "        self._calc_p()\n",
    "    \n",
    "    def _calc_p(self):\n",
    "        for i, t in enumerate(self.tokens):\n",
    "            total = 0\n",
    "            for j, s in enumerate(self.sequences):\n",
    "                total += self.count[i][j]\n",
    "                \n",
    "            if total != 0:\n",
    "                for j, s in enumerate(self.sequences):\n",
    "                    self.p[i][j] = self.count[i][j]/float(total)\n",
    "            else:\n",
    "                self.p[i] = np.full(len(self.sequences), 0.0)\n",
    "    \n",
    "    def calc_inv(self):\n",
    "        self.p_token = [sum(self.p[i,:]) for i, t in enumerate(self.tokens)]\n",
    "        self.p_sequence = [sum(self.p[:,j]) for j, s in enumerate(self.sequences)]\n",
    "        for j, s in enumerate(self.sequences):\n",
    "            prob_dist = np.zeros(len(self.tokens))\n",
    "            for i, t in enumerate(self.tokens):\n",
    "                if self.p_token[i]>0.0:\n",
    "                    prob_dist[i] = self.p[i][j]*self.p_sequence[j]/self.p_token[i]\n",
    "                \n",
    "            norm = np.linalg.norm(prob_dist,1)\n",
    "            if norm != 0: \n",
    "                self.p_inv[j,:] = prob_dist / norm\n",
    "    \n",
    "    def to_json(self, outfile):\n",
    "        jsonData=json.dumps(self.__dict__, cls=NumpyEncoder)\n",
    "        with open(outfile, 'w') as f:\n",
    "            json.dump(jsonData, f)\n",
    "            \n",
    "\n",
    "# Serialize ndarrays to json\n",
    "class NumpyEncoder(json.JSONEncoder):\n",
    "    def default(self, obj):\n",
    "        if isinstance(obj, np.ndarray):\n",
    "            return obj.tolist()\n",
    "        return json.JSONEncoder.default(self, obj)"
   ]
  },
  {
   "cell_type": "markdown",
   "metadata": {},
   "source": [
    "## Rates of Convergence for MCs of Order 1 and Order 2"
   ]
  },
  {
   "cell_type": "markdown",
   "metadata": {},
   "source": [
    "## Train transition matricies and plot change vs. amount of training data"
   ]
  },
  {
   "cell_type": "code",
   "execution_count": 6,
   "metadata": {
    "pycharm": {
     "is_executing": true
    }
   },
   "outputs": [
    {
     "name": "stdout",
     "output_type": "stream",
     "text": [
      "5 of 89\n",
      "11 of 89\n",
      "17 of 89\n",
      "23 of 89\n",
      "29 of 89\n",
      "35 of 89\n",
      "41 of 89\n",
      "47 of 89\n",
      "53 of 89\n",
      "59 of 89\n",
      "65 of 89\n",
      "71 of 89\n",
      "77 of 89\n",
      "83 of 89\n"
     ]
    }
   ],
   "source": [
    "# 1. Ingest song (read, revert <even>M7 to <even>7, and convert to sequences)\n",
    "# 2. Calc TransitionMatrix\n",
    "# 3. Calc delta\n",
    "# 4. Store delta and repeat\n",
    "\n",
    "tm_order1 = TransitionMatrix()\n",
    "tm_h1 = TransitionMatrix()\n",
    "tm_h2 = TransitionMatrix()\n",
    "\n",
    "num_songs = []\n",
    "delta_order1 = []\n",
    "delta_h1 = []\n",
    "delta_h2 = []\n",
    "p_init = copy.copy(tm_order1.p)\n",
    "p1_init = copy.copy(tm_h1.p)\n",
    "p2_init = copy.copy(tm_h2.p)\n",
    "num_measures=0\n",
    "for i,song in enumerate(songs):\n",
    "    num_measures += len(song)\n",
    "    \n",
    "    tm_order1.update_order1(song)\n",
    "    tm_h1.update_h1(song)\n",
    "    tm_h2.update_h2(song)\n",
    "    \n",
    "    if (i+1)%6==0:\n",
    "        print(str(i) + ' of ' + str(len(songs)))\n",
    "        num_songs.append(i+1)\n",
    "        \n",
    "        delta_order1.append((np.linalg.norm(tm_order1.p - p_init))/num_measures)\n",
    "                            \n",
    "        d1 = np.linalg.norm(tm_h1.p - p1_init)\n",
    "        d2 = np.linalg.norm(tm_h2.p - p2_init)\n",
    "        delta_h1.append(d1/num_measures)\n",
    "        delta_h2.append(d2/num_measures)\n",
    "\n",
    "        p_init = copy.copy(tm_order1.p)\n",
    "        p1_init = copy.copy(tm_h1.p)\n",
    "        p2_init = copy.copy(tm_h2.p)\n",
    "        num_measures = 0\n",
    "        \n",
    "tm_order1.calc_inv()\n",
    "tm_h1.calc_inv()\n",
    "tm_h2.calc_inv()"
   ]
  },
  {
   "cell_type": "code",
   "execution_count": 7,
   "metadata": {
    "pycharm": {
     "is_executing": true
    }
   },
   "outputs": [
    {
     "data": {
      "image/png": "[encoded data removed]",
      "text/plain": [
       "<Figure size 432x288 with 1 Axes>"
      ]
     },
     "metadata": {
      "needs_background": "light"
     },
     "output_type": "display_data"
    },
    {
     "data": {
      "image/png": "[encoded data removed]",
      "text/plain": [
       "<Figure size 432x288 with 2 Axes>"
      ]
     },
     "metadata": {
      "needs_background": "light"
     },
     "output_type": "display_data"
    }
   ],
   "source": [
    "# Load models when not present\n",
    "# TODO: Fit C*exp(-ax) to estimate how much data is needed to reach 0.1% relative tolerance\n",
    "plt.plot(num_songs, delta_order1)\n",
    "plt.title('Transition Matrix Change - Order 1')\n",
    "plt.xlabel('Number of Songs')\n",
    "plt.ylabel('Magnitude of Trans Mat Change')\n",
    "plt.plot([46,46],[0,.035])\n",
    "plt.plot([46,46],[0,.035])\n",
    "plt.text(20,.025,'American')\n",
    "plt.text(60,.025,'Irish')\n",
    "plt.show()\n",
    "\n",
    "figure, axes = plt.subplots(nrows=2,ncols=1,sharex=True)\n",
    "axes[0].plot(num_songs, delta_h1)\n",
    "axes[1].plot(num_songs, delta_h2)\n",
    "axes[0].set_title('Transition Matrix Change - Order 2')\n",
    "plt.xlabel('Number of Songs')\n",
    "axes[0].set_ylabel('Token Half 1')\n",
    "axes[1].set_ylabel('Token Half 2')\n",
    "axes[0].plot([46,46],[0,.035])\n",
    "axes[0].plot([46,46],[0,.035])\n",
    "axes[1].plot([46,46],[0,.035])\n",
    "axes[1].plot([46,46],[0,.035])\n",
    "axes[0].text(20,.025,'American')\n",
    "axes[0].text(60,.025,'Irish')\n",
    "plt.show()"
   ]
  },
  {
   "cell_type": "code",
   "execution_count": 9,
   "metadata": {
    "pycharm": {
     "is_executing": true
    }
   },
   "outputs": [],
   "source": [
    "# Write transition matricies to disk\n",
    "outfile_order1 = \"models/allData_tm_order1.json\"\n",
    "outfile_order2_h1 = \"models/allData_tm_order2_tm_h1.json\"\n",
    "outfile_order2_h2 = \"models/allData_tm_order2_tm_h2.json\"\n",
    "tm_order1.to_json(outfile_order1)\n",
    "tm_h1.to_json(outfile_order2_h1)\n",
    "tm_h2.to_json(outfile_order2_h2)"
   ]
  },
  {
   "cell_type": "markdown",
   "metadata": {},
   "source": [
    "# Tools"
   ]
  },
  {
   "cell_type": "markdown",
   "metadata": {},
   "source": [
    "## Harmonizer"
   ]
  },
  {
   "cell_type": "code",
   "execution_count": 10,
   "metadata": {
    "pycharm": {
     "is_executing": true
    }
   },
   "outputs": [
    {
     "name": "stdout",
     "output_type": "stream",
     "text": [
      "Getting best harmony chord after 1-3 for melody 5 ...\n",
      "Candidates: {'1': 71, '2': 3, '5': 2, '57': 2, '6': 4}\n",
      "1\n"
     ]
    }
   ],
   "source": [
    "# A tool to predict a Harmony chord given the current Melody\n",
    "def harmony(prior, melody):\n",
    "    # Given a prior H-M and a current melody, guess a harmony chord\n",
    "    # Most popular case in training data\n",
    "    # To make a song, predict less popular options based on popularity\n",
    "    print('Getting best harmony chord after ' + prior + ' for melody ' + melody + ' ...')\n",
    "    \n",
    "    pairs = zip(tuples_h1, tuples_h1[1:])\n",
    "    h0m0m1_h1 = [(pair[0]+'-'+pair[1].split('-')[1], pair[1].split('-')[0]) for pair in pairs]\n",
    "\n",
    "    c = Counter(h0m0m1_h1)\n",
    "    #print(c.most_common(5))\n",
    "    \n",
    "    candidates={}\n",
    "    for k in c.keys():\n",
    "        if k[0] == prior + '-' + melody:\n",
    "            candidates[k[1]] = c[k]\n",
    "    \n",
    "    print('Candidates: ' + str(candidates))\n",
    "    try:\n",
    "        best = max(candidates, key=candidates.get)\n",
    "    except:\n",
    "        best = 'unknown'\n",
    "        \n",
    "    return best\n",
    "\n",
    "n = harmony('1-3', '5')\n",
    "print(n)"
   ]
  },
  {
   "cell_type": "markdown",
   "metadata": {},
   "source": [
    "## Generate song"
   ]
  },
  {
   "cell_type": "code",
   "execution_count": 11,
   "metadata": {
    "pycharm": {
     "is_executing": true
    }
   },
   "outputs": [
    {
     "name": "stdout",
     "output_type": "stream",
     "text": [
      "Trial Number 3\n",
      "A Part\n",
      "[('1-3', '1-3'), ('5-5', '5-5'), ('1-1', '5-7'), ('4M-6', '1-5'), ('4M-5', '1-2'), ('1-1', '57-7'), ('6-6', '57-5'), ('1-1', '1-1')]\n",
      "\n",
      "Trial Number 25\n",
      "B Part\n",
      "[('1-5', '1-5'), ('7-7f', '7-7f'), ('7-7f', '7-5'), ('1-1', '1-1'), ('17-3', '17-5'), ('4M-5', '4M-4'), ('4M-4', '4-3'), ('1-1', '1-1')]\n"
     ]
    }
   ],
   "source": [
    "def songPart(firstMeasure, half1Matrix, half2Matrix):\n",
    "    \"\"\" Generate a series of 8 bars\n",
    "    \"\"\"\n",
    "    seq = firstMeasure\n",
    "    restart = False\n",
    "    song=[]\n",
    "    trialNo=0\n",
    "    while seq != ('1-1', '1-1') or len(song)<8:\n",
    "        trialNo += 1\n",
    "        \n",
    "        song = [firstMeasure]\n",
    "        for _ in range(7):\n",
    "            if restart:\n",
    "                seq = firstMeasure\n",
    "                restart = False\n",
    "                break\n",
    "                \n",
    "            idx = half1Matrix.idxBySequence[str(seq)]\n",
    "            \n",
    "            if sum(half1Matrix.p_inv[idx,:])==0:\n",
    "                print('No training for h1 combo:' + str(seq))\n",
    "                restart = True\n",
    "                break\n",
    "\n",
    "            m_h1 = np.random.choice(half1Matrix.tokens, 1, p=half1Matrix.p_inv[idx,:])\n",
    "            seq_h2 = (seq[1], m_h1[0])\n",
    "            idx = half1Matrix.idxBySequence[str(seq_h2)]\n",
    "\n",
    "            # sometimes there is no data for seq_h2 - start over\n",
    "            if sum(half2Matrix.p_inv[idx,:])==0:\n",
    "                print('No training for h2 combo:' + str(seq_h1))\n",
    "                restart=True\n",
    "                break\n",
    "            \n",
    "            m_h2 = np.random.choice(half2Matrix.tokens, 1, p=half2Matrix.p_inv[idx,:])\n",
    "\n",
    "            seq = (m_h1[0], m_h2[0])\n",
    "            song.append(seq)\n",
    "\n",
    "            \n",
    "    print('Trial Number ' + str(trialNo))\n",
    "    return(song)\n",
    "\n",
    "firstMeasure = ('1-3', '1-3')\n",
    "try:\n",
    "    verse = songPart(firstMeasure, tm_h1, tm_h2)\n",
    "except NameError:\n",
    "    # Load models\n",
    "    outfile_order2_h1 = \"models/allData_tm_order2_tm_h1.json\"\n",
    "    outfile_order2_h2 = \"models/allData_tm_order2_tm_h2.json\"\n",
    "    print(\"Loading Matrix Half 1\")\n",
    "    with open(outfile_order2_h1) as f:\n",
    "        json_str = json.load(f)\n",
    "        h1_mat = json.loads(json_str)\n",
    "    \n",
    "        tm_h1 = TransitionMatrix()\n",
    "        tm_h1.from_json(h1_mat)\n",
    "        \n",
    "    print(\"Loading Matrix Half 2\")\n",
    "    with open(outfile_order2_h2) as f:\n",
    "        json_str = json.load(f)\n",
    "        h2_mat = json.loads(json_str)\n",
    "    \n",
    "        tm_h2 = TransitionMatrix()\n",
    "        tm_h2.from_json(h2_mat)\n",
    "                \n",
    "    verse = songPart(firstMeasure, tm_h1, tm_h2)\n",
    "\n",
    "print('A Part')\n",
    "print(verse)\n",
    "\n",
    "print()\n",
    "\n",
    "chorus = songPart(('1-5', '1-5'), tm_h1, tm_h2)\n",
    "print('B Part')\n",
    "print(chorus)\n",
    "\n",
    "key = 'C'\n",
    "# Convert encoded song to staff music\n",
    "# from music21 import musicxml\n"
   ]
  },
  {
   "cell_type": "code",
   "execution_count": null,
   "metadata": {
    "pycharm": {
     "is_executing": true
    }
   },
   "outputs": [],
   "source": []
  },
  {
   "cell_type": "code",
   "execution_count": null,
   "metadata": {},
   "outputs": [],
   "source": []
  }
 ],
 "metadata": {
  "kernelspec": {
   "display_name": "Python 3",
   "language": "python",
   "name": "python3"
  },
  "language_info": {
   "codemirror_mode": {
    "name": "ipython",
    "version": 3
   },
   "file_extension": ".py",
   "mimetype": "text/x-python",
   "name": "python",
   "nbconvert_exporter": "python",
   "pygments_lexer": "ipython3",
   "version": "3.7.6"
  }
 },
 "nbformat": 4,
 "nbformat_minor": 2
}
